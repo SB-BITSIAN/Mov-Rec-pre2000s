{
 "cells": [
  {
   "cell_type": "code",
   "execution_count": 1,
   "id": "0694a354",
   "metadata": {},
   "outputs": [],
   "source": [
    "import pandas as pd\n",
    "import numpy as np\n",
    "from matplotlib import pyplot as plt\n"
   ]
  },
  {
   "cell_type": "code",
   "execution_count": 2,
   "id": "3a5e36bf",
   "metadata": {},
   "outputs": [],
   "source": [
    "xxx=pd.read_csv('train.csv')"
   ]
  },
  {
   "cell_type": "code",
   "execution_count": 3,
   "id": "4583ebba",
   "metadata": {},
   "outputs": [
    {
     "data": {
      "text/html": [
       "<div>\n",
       "<style scoped>\n",
       "    .dataframe tbody tr th:only-of-type {\n",
       "        vertical-align: middle;\n",
       "    }\n",
       "\n",
       "    .dataframe tbody tr th {\n",
       "        vertical-align: top;\n",
       "    }\n",
       "\n",
       "    .dataframe thead th {\n",
       "        text-align: right;\n",
       "    }\n",
       "</style>\n",
       "<table border=\"1\" class=\"dataframe\">\n",
       "  <thead>\n",
       "    <tr style=\"text-align: right;\">\n",
       "      <th></th>\n",
       "      <th>label</th>\n",
       "      <th>pixel0</th>\n",
       "      <th>pixel1</th>\n",
       "      <th>pixel2</th>\n",
       "      <th>pixel3</th>\n",
       "      <th>pixel4</th>\n",
       "      <th>pixel5</th>\n",
       "      <th>pixel6</th>\n",
       "      <th>pixel7</th>\n",
       "      <th>pixel8</th>\n",
       "      <th>...</th>\n",
       "      <th>pixel774</th>\n",
       "      <th>pixel775</th>\n",
       "      <th>pixel776</th>\n",
       "      <th>pixel777</th>\n",
       "      <th>pixel778</th>\n",
       "      <th>pixel779</th>\n",
       "      <th>pixel780</th>\n",
       "      <th>pixel781</th>\n",
       "      <th>pixel782</th>\n",
       "      <th>pixel783</th>\n",
       "    </tr>\n",
       "  </thead>\n",
       "  <tbody>\n",
       "    <tr>\n",
       "      <th>0</th>\n",
       "      <td>1</td>\n",
       "      <td>0</td>\n",
       "      <td>0</td>\n",
       "      <td>0</td>\n",
       "      <td>0</td>\n",
       "      <td>0</td>\n",
       "      <td>0</td>\n",
       "      <td>0</td>\n",
       "      <td>0</td>\n",
       "      <td>0</td>\n",
       "      <td>...</td>\n",
       "      <td>0</td>\n",
       "      <td>0</td>\n",
       "      <td>0</td>\n",
       "      <td>0</td>\n",
       "      <td>0</td>\n",
       "      <td>0</td>\n",
       "      <td>0</td>\n",
       "      <td>0</td>\n",
       "      <td>0</td>\n",
       "      <td>0</td>\n",
       "    </tr>\n",
       "    <tr>\n",
       "      <th>1</th>\n",
       "      <td>0</td>\n",
       "      <td>0</td>\n",
       "      <td>0</td>\n",
       "      <td>0</td>\n",
       "      <td>0</td>\n",
       "      <td>0</td>\n",
       "      <td>0</td>\n",
       "      <td>0</td>\n",
       "      <td>0</td>\n",
       "      <td>0</td>\n",
       "      <td>...</td>\n",
       "      <td>0</td>\n",
       "      <td>0</td>\n",
       "      <td>0</td>\n",
       "      <td>0</td>\n",
       "      <td>0</td>\n",
       "      <td>0</td>\n",
       "      <td>0</td>\n",
       "      <td>0</td>\n",
       "      <td>0</td>\n",
       "      <td>0</td>\n",
       "    </tr>\n",
       "    <tr>\n",
       "      <th>2</th>\n",
       "      <td>1</td>\n",
       "      <td>0</td>\n",
       "      <td>0</td>\n",
       "      <td>0</td>\n",
       "      <td>0</td>\n",
       "      <td>0</td>\n",
       "      <td>0</td>\n",
       "      <td>0</td>\n",
       "      <td>0</td>\n",
       "      <td>0</td>\n",
       "      <td>...</td>\n",
       "      <td>0</td>\n",
       "      <td>0</td>\n",
       "      <td>0</td>\n",
       "      <td>0</td>\n",
       "      <td>0</td>\n",
       "      <td>0</td>\n",
       "      <td>0</td>\n",
       "      <td>0</td>\n",
       "      <td>0</td>\n",
       "      <td>0</td>\n",
       "    </tr>\n",
       "    <tr>\n",
       "      <th>3</th>\n",
       "      <td>4</td>\n",
       "      <td>0</td>\n",
       "      <td>0</td>\n",
       "      <td>0</td>\n",
       "      <td>0</td>\n",
       "      <td>0</td>\n",
       "      <td>0</td>\n",
       "      <td>0</td>\n",
       "      <td>0</td>\n",
       "      <td>0</td>\n",
       "      <td>...</td>\n",
       "      <td>0</td>\n",
       "      <td>0</td>\n",
       "      <td>0</td>\n",
       "      <td>0</td>\n",
       "      <td>0</td>\n",
       "      <td>0</td>\n",
       "      <td>0</td>\n",
       "      <td>0</td>\n",
       "      <td>0</td>\n",
       "      <td>0</td>\n",
       "    </tr>\n",
       "    <tr>\n",
       "      <th>4</th>\n",
       "      <td>0</td>\n",
       "      <td>0</td>\n",
       "      <td>0</td>\n",
       "      <td>0</td>\n",
       "      <td>0</td>\n",
       "      <td>0</td>\n",
       "      <td>0</td>\n",
       "      <td>0</td>\n",
       "      <td>0</td>\n",
       "      <td>0</td>\n",
       "      <td>...</td>\n",
       "      <td>0</td>\n",
       "      <td>0</td>\n",
       "      <td>0</td>\n",
       "      <td>0</td>\n",
       "      <td>0</td>\n",
       "      <td>0</td>\n",
       "      <td>0</td>\n",
       "      <td>0</td>\n",
       "      <td>0</td>\n",
       "      <td>0</td>\n",
       "    </tr>\n",
       "  </tbody>\n",
       "</table>\n",
       "<p>5 rows × 785 columns</p>\n",
       "</div>"
      ],
      "text/plain": [
       "   label  pixel0  pixel1  pixel2  pixel3  pixel4  pixel5  pixel6  pixel7  \\\n",
       "0      1       0       0       0       0       0       0       0       0   \n",
       "1      0       0       0       0       0       0       0       0       0   \n",
       "2      1       0       0       0       0       0       0       0       0   \n",
       "3      4       0       0       0       0       0       0       0       0   \n",
       "4      0       0       0       0       0       0       0       0       0   \n",
       "\n",
       "   pixel8  ...  pixel774  pixel775  pixel776  pixel777  pixel778  pixel779  \\\n",
       "0       0  ...         0         0         0         0         0         0   \n",
       "1       0  ...         0         0         0         0         0         0   \n",
       "2       0  ...         0         0         0         0         0         0   \n",
       "3       0  ...         0         0         0         0         0         0   \n",
       "4       0  ...         0         0         0         0         0         0   \n",
       "\n",
       "   pixel780  pixel781  pixel782  pixel783  \n",
       "0         0         0         0         0  \n",
       "1         0         0         0         0  \n",
       "2         0         0         0         0  \n",
       "3         0         0         0         0  \n",
       "4         0         0         0         0  \n",
       "\n",
       "[5 rows x 785 columns]"
      ]
     },
     "execution_count": 3,
     "metadata": {},
     "output_type": "execute_result"
    }
   ],
   "source": [
    "xxx.head()"
   ]
  },
  {
   "cell_type": "code",
   "execution_count": 4,
   "id": "93be8968",
   "metadata": {},
   "outputs": [
    {
     "data": {
      "text/plain": [
       "(42000, 785)"
      ]
     },
     "execution_count": 4,
     "metadata": {},
     "output_type": "execute_result"
    }
   ],
   "source": [
    "xxx.shape"
   ]
  },
  {
   "cell_type": "markdown",
   "id": "79463f70",
   "metadata": {},
   "source": [
    "# seperating labels and pixels #"
   ]
  },
  {
   "cell_type": "code",
   "execution_count": 5,
   "id": "0647f1da",
   "metadata": {},
   "outputs": [],
   "source": [
    "x=xxx.iloc[np.arange(0,42000,1),np.arange(1,785,1)]\n",
    "y=xxx.iloc[np.arange(0,42000,1),0]"
   ]
  },
  {
   "cell_type": "code",
   "execution_count": 6,
   "id": "1c21d994",
   "metadata": {},
   "outputs": [
    {
     "data": {
      "text/html": [
       "<div>\n",
       "<style scoped>\n",
       "    .dataframe tbody tr th:only-of-type {\n",
       "        vertical-align: middle;\n",
       "    }\n",
       "\n",
       "    .dataframe tbody tr th {\n",
       "        vertical-align: top;\n",
       "    }\n",
       "\n",
       "    .dataframe thead th {\n",
       "        text-align: right;\n",
       "    }\n",
       "</style>\n",
       "<table border=\"1\" class=\"dataframe\">\n",
       "  <thead>\n",
       "    <tr style=\"text-align: right;\">\n",
       "      <th></th>\n",
       "      <th>pixel0</th>\n",
       "      <th>pixel1</th>\n",
       "      <th>pixel2</th>\n",
       "      <th>pixel3</th>\n",
       "      <th>pixel4</th>\n",
       "      <th>pixel5</th>\n",
       "      <th>pixel6</th>\n",
       "      <th>pixel7</th>\n",
       "      <th>pixel8</th>\n",
       "      <th>pixel9</th>\n",
       "      <th>...</th>\n",
       "      <th>pixel774</th>\n",
       "      <th>pixel775</th>\n",
       "      <th>pixel776</th>\n",
       "      <th>pixel777</th>\n",
       "      <th>pixel778</th>\n",
       "      <th>pixel779</th>\n",
       "      <th>pixel780</th>\n",
       "      <th>pixel781</th>\n",
       "      <th>pixel782</th>\n",
       "      <th>pixel783</th>\n",
       "    </tr>\n",
       "  </thead>\n",
       "  <tbody>\n",
       "    <tr>\n",
       "      <th>0</th>\n",
       "      <td>0</td>\n",
       "      <td>0</td>\n",
       "      <td>0</td>\n",
       "      <td>0</td>\n",
       "      <td>0</td>\n",
       "      <td>0</td>\n",
       "      <td>0</td>\n",
       "      <td>0</td>\n",
       "      <td>0</td>\n",
       "      <td>0</td>\n",
       "      <td>...</td>\n",
       "      <td>0</td>\n",
       "      <td>0</td>\n",
       "      <td>0</td>\n",
       "      <td>0</td>\n",
       "      <td>0</td>\n",
       "      <td>0</td>\n",
       "      <td>0</td>\n",
       "      <td>0</td>\n",
       "      <td>0</td>\n",
       "      <td>0</td>\n",
       "    </tr>\n",
       "    <tr>\n",
       "      <th>1</th>\n",
       "      <td>0</td>\n",
       "      <td>0</td>\n",
       "      <td>0</td>\n",
       "      <td>0</td>\n",
       "      <td>0</td>\n",
       "      <td>0</td>\n",
       "      <td>0</td>\n",
       "      <td>0</td>\n",
       "      <td>0</td>\n",
       "      <td>0</td>\n",
       "      <td>...</td>\n",
       "      <td>0</td>\n",
       "      <td>0</td>\n",
       "      <td>0</td>\n",
       "      <td>0</td>\n",
       "      <td>0</td>\n",
       "      <td>0</td>\n",
       "      <td>0</td>\n",
       "      <td>0</td>\n",
       "      <td>0</td>\n",
       "      <td>0</td>\n",
       "    </tr>\n",
       "    <tr>\n",
       "      <th>2</th>\n",
       "      <td>0</td>\n",
       "      <td>0</td>\n",
       "      <td>0</td>\n",
       "      <td>0</td>\n",
       "      <td>0</td>\n",
       "      <td>0</td>\n",
       "      <td>0</td>\n",
       "      <td>0</td>\n",
       "      <td>0</td>\n",
       "      <td>0</td>\n",
       "      <td>...</td>\n",
       "      <td>0</td>\n",
       "      <td>0</td>\n",
       "      <td>0</td>\n",
       "      <td>0</td>\n",
       "      <td>0</td>\n",
       "      <td>0</td>\n",
       "      <td>0</td>\n",
       "      <td>0</td>\n",
       "      <td>0</td>\n",
       "      <td>0</td>\n",
       "    </tr>\n",
       "    <tr>\n",
       "      <th>3</th>\n",
       "      <td>0</td>\n",
       "      <td>0</td>\n",
       "      <td>0</td>\n",
       "      <td>0</td>\n",
       "      <td>0</td>\n",
       "      <td>0</td>\n",
       "      <td>0</td>\n",
       "      <td>0</td>\n",
       "      <td>0</td>\n",
       "      <td>0</td>\n",
       "      <td>...</td>\n",
       "      <td>0</td>\n",
       "      <td>0</td>\n",
       "      <td>0</td>\n",
       "      <td>0</td>\n",
       "      <td>0</td>\n",
       "      <td>0</td>\n",
       "      <td>0</td>\n",
       "      <td>0</td>\n",
       "      <td>0</td>\n",
       "      <td>0</td>\n",
       "    </tr>\n",
       "    <tr>\n",
       "      <th>4</th>\n",
       "      <td>0</td>\n",
       "      <td>0</td>\n",
       "      <td>0</td>\n",
       "      <td>0</td>\n",
       "      <td>0</td>\n",
       "      <td>0</td>\n",
       "      <td>0</td>\n",
       "      <td>0</td>\n",
       "      <td>0</td>\n",
       "      <td>0</td>\n",
       "      <td>...</td>\n",
       "      <td>0</td>\n",
       "      <td>0</td>\n",
       "      <td>0</td>\n",
       "      <td>0</td>\n",
       "      <td>0</td>\n",
       "      <td>0</td>\n",
       "      <td>0</td>\n",
       "      <td>0</td>\n",
       "      <td>0</td>\n",
       "      <td>0</td>\n",
       "    </tr>\n",
       "    <tr>\n",
       "      <th>...</th>\n",
       "      <td>...</td>\n",
       "      <td>...</td>\n",
       "      <td>...</td>\n",
       "      <td>...</td>\n",
       "      <td>...</td>\n",
       "      <td>...</td>\n",
       "      <td>...</td>\n",
       "      <td>...</td>\n",
       "      <td>...</td>\n",
       "      <td>...</td>\n",
       "      <td>...</td>\n",
       "      <td>...</td>\n",
       "      <td>...</td>\n",
       "      <td>...</td>\n",
       "      <td>...</td>\n",
       "      <td>...</td>\n",
       "      <td>...</td>\n",
       "      <td>...</td>\n",
       "      <td>...</td>\n",
       "      <td>...</td>\n",
       "      <td>...</td>\n",
       "    </tr>\n",
       "    <tr>\n",
       "      <th>41995</th>\n",
       "      <td>0</td>\n",
       "      <td>0</td>\n",
       "      <td>0</td>\n",
       "      <td>0</td>\n",
       "      <td>0</td>\n",
       "      <td>0</td>\n",
       "      <td>0</td>\n",
       "      <td>0</td>\n",
       "      <td>0</td>\n",
       "      <td>0</td>\n",
       "      <td>...</td>\n",
       "      <td>0</td>\n",
       "      <td>0</td>\n",
       "      <td>0</td>\n",
       "      <td>0</td>\n",
       "      <td>0</td>\n",
       "      <td>0</td>\n",
       "      <td>0</td>\n",
       "      <td>0</td>\n",
       "      <td>0</td>\n",
       "      <td>0</td>\n",
       "    </tr>\n",
       "    <tr>\n",
       "      <th>41996</th>\n",
       "      <td>0</td>\n",
       "      <td>0</td>\n",
       "      <td>0</td>\n",
       "      <td>0</td>\n",
       "      <td>0</td>\n",
       "      <td>0</td>\n",
       "      <td>0</td>\n",
       "      <td>0</td>\n",
       "      <td>0</td>\n",
       "      <td>0</td>\n",
       "      <td>...</td>\n",
       "      <td>0</td>\n",
       "      <td>0</td>\n",
       "      <td>0</td>\n",
       "      <td>0</td>\n",
       "      <td>0</td>\n",
       "      <td>0</td>\n",
       "      <td>0</td>\n",
       "      <td>0</td>\n",
       "      <td>0</td>\n",
       "      <td>0</td>\n",
       "    </tr>\n",
       "    <tr>\n",
       "      <th>41997</th>\n",
       "      <td>0</td>\n",
       "      <td>0</td>\n",
       "      <td>0</td>\n",
       "      <td>0</td>\n",
       "      <td>0</td>\n",
       "      <td>0</td>\n",
       "      <td>0</td>\n",
       "      <td>0</td>\n",
       "      <td>0</td>\n",
       "      <td>0</td>\n",
       "      <td>...</td>\n",
       "      <td>0</td>\n",
       "      <td>0</td>\n",
       "      <td>0</td>\n",
       "      <td>0</td>\n",
       "      <td>0</td>\n",
       "      <td>0</td>\n",
       "      <td>0</td>\n",
       "      <td>0</td>\n",
       "      <td>0</td>\n",
       "      <td>0</td>\n",
       "    </tr>\n",
       "    <tr>\n",
       "      <th>41998</th>\n",
       "      <td>0</td>\n",
       "      <td>0</td>\n",
       "      <td>0</td>\n",
       "      <td>0</td>\n",
       "      <td>0</td>\n",
       "      <td>0</td>\n",
       "      <td>0</td>\n",
       "      <td>0</td>\n",
       "      <td>0</td>\n",
       "      <td>0</td>\n",
       "      <td>...</td>\n",
       "      <td>0</td>\n",
       "      <td>0</td>\n",
       "      <td>0</td>\n",
       "      <td>0</td>\n",
       "      <td>0</td>\n",
       "      <td>0</td>\n",
       "      <td>0</td>\n",
       "      <td>0</td>\n",
       "      <td>0</td>\n",
       "      <td>0</td>\n",
       "    </tr>\n",
       "    <tr>\n",
       "      <th>41999</th>\n",
       "      <td>0</td>\n",
       "      <td>0</td>\n",
       "      <td>0</td>\n",
       "      <td>0</td>\n",
       "      <td>0</td>\n",
       "      <td>0</td>\n",
       "      <td>0</td>\n",
       "      <td>0</td>\n",
       "      <td>0</td>\n",
       "      <td>0</td>\n",
       "      <td>...</td>\n",
       "      <td>0</td>\n",
       "      <td>0</td>\n",
       "      <td>0</td>\n",
       "      <td>0</td>\n",
       "      <td>0</td>\n",
       "      <td>0</td>\n",
       "      <td>0</td>\n",
       "      <td>0</td>\n",
       "      <td>0</td>\n",
       "      <td>0</td>\n",
       "    </tr>\n",
       "  </tbody>\n",
       "</table>\n",
       "<p>42000 rows × 784 columns</p>\n",
       "</div>"
      ],
      "text/plain": [
       "       pixel0  pixel1  pixel2  pixel3  pixel4  pixel5  pixel6  pixel7  pixel8  \\\n",
       "0           0       0       0       0       0       0       0       0       0   \n",
       "1           0       0       0       0       0       0       0       0       0   \n",
       "2           0       0       0       0       0       0       0       0       0   \n",
       "3           0       0       0       0       0       0       0       0       0   \n",
       "4           0       0       0       0       0       0       0       0       0   \n",
       "...       ...     ...     ...     ...     ...     ...     ...     ...     ...   \n",
       "41995       0       0       0       0       0       0       0       0       0   \n",
       "41996       0       0       0       0       0       0       0       0       0   \n",
       "41997       0       0       0       0       0       0       0       0       0   \n",
       "41998       0       0       0       0       0       0       0       0       0   \n",
       "41999       0       0       0       0       0       0       0       0       0   \n",
       "\n",
       "       pixel9  ...  pixel774  pixel775  pixel776  pixel777  pixel778  \\\n",
       "0           0  ...         0         0         0         0         0   \n",
       "1           0  ...         0         0         0         0         0   \n",
       "2           0  ...         0         0         0         0         0   \n",
       "3           0  ...         0         0         0         0         0   \n",
       "4           0  ...         0         0         0         0         0   \n",
       "...       ...  ...       ...       ...       ...       ...       ...   \n",
       "41995       0  ...         0         0         0         0         0   \n",
       "41996       0  ...         0         0         0         0         0   \n",
       "41997       0  ...         0         0         0         0         0   \n",
       "41998       0  ...         0         0         0         0         0   \n",
       "41999       0  ...         0         0         0         0         0   \n",
       "\n",
       "       pixel779  pixel780  pixel781  pixel782  pixel783  \n",
       "0             0         0         0         0         0  \n",
       "1             0         0         0         0         0  \n",
       "2             0         0         0         0         0  \n",
       "3             0         0         0         0         0  \n",
       "4             0         0         0         0         0  \n",
       "...         ...       ...       ...       ...       ...  \n",
       "41995         0         0         0         0         0  \n",
       "41996         0         0         0         0         0  \n",
       "41997         0         0         0         0         0  \n",
       "41998         0         0         0         0         0  \n",
       "41999         0         0         0         0         0  \n",
       "\n",
       "[42000 rows x 784 columns]"
      ]
     },
     "execution_count": 6,
     "metadata": {},
     "output_type": "execute_result"
    }
   ],
   "source": [
    "x"
   ]
  },
  {
   "cell_type": "code",
   "execution_count": 7,
   "id": "e59e8c60",
   "metadata": {},
   "outputs": [
    {
     "data": {
      "text/plain": [
       "0        1\n",
       "1        0\n",
       "2        1\n",
       "3        4\n",
       "4        0\n",
       "        ..\n",
       "41995    0\n",
       "41996    1\n",
       "41997    7\n",
       "41998    6\n",
       "41999    9\n",
       "Name: label, Length: 42000, dtype: int64"
      ]
     },
     "execution_count": 7,
     "metadata": {},
     "output_type": "execute_result"
    }
   ],
   "source": [
    "y"
   ]
  },
  {
   "cell_type": "code",
   "execution_count": 8,
   "id": "75299309",
   "metadata": {},
   "outputs": [],
   "source": [
    "test_check=x.iloc[0,np.arange(0,784,1)]"
   ]
  },
  {
   "cell_type": "code",
   "execution_count": 9,
   "id": "2d4de10e",
   "metadata": {},
   "outputs": [],
   "source": [
    "tc=test_check.values"
   ]
  },
  {
   "cell_type": "code",
   "execution_count": 10,
   "id": "50bdd643",
   "metadata": {},
   "outputs": [],
   "source": [
    "tc=tc.reshape((28,28))"
   ]
  },
  {
   "cell_type": "code",
   "execution_count": 11,
   "id": "1d2572ee",
   "metadata": {},
   "outputs": [
    {
     "data": {
      "text/plain": [
       "<matplotlib.image.AxesImage at 0x19c98bb6730>"
      ]
     },
     "execution_count": 11,
     "metadata": {},
     "output_type": "execute_result"
    },
    {
     "data": {
      "image/png": "[encoded data removed]",
      "text/plain": [
       "<Figure size 432x288 with 1 Axes>"
      ]
     },
     "metadata": {
      "needs_background": "light"
     },
     "output_type": "display_data"
    }
   ],
   "source": [
    "plt.imshow(tc)"
   ]
  },
  {
   "cell_type": "markdown",
   "id": "45cae1c6",
   "metadata": {},
   "source": [
    "# creating training and testing sets #"
   ]
  },
  {
   "cell_type": "code",
   "execution_count": 12,
   "id": "96dc7109",
   "metadata": {},
   "outputs": [
    {
     "name": "stdout",
     "output_type": "stream",
     "text": [
      "33600\n"
     ]
    }
   ],
   "source": [
    "diff=0.8\n",
    "#dividing the total set in the ratio of 0.8:0.2 for training and test sets respectively\n",
    "(r,c)=x.shape\n",
    "(r1)=y.shape\n",
    "ii=int(0.8*r)\n",
    "print(ii)"
   ]
  },
  {
   "cell_type": "code",
   "execution_count": 13,
   "id": "866b48d3",
   "metadata": {},
   "outputs": [],
   "source": [
    "train_x=x.iloc[np.arange(0,ii,1),np.arange(0,784,1)]"
   ]
  },
  {
   "cell_type": "code",
   "execution_count": 14,
   "id": "3ea563eb",
   "metadata": {},
   "outputs": [],
   "source": [
    "train_x=train_x.values"
   ]
  },
  {
   "cell_type": "code",
   "execution_count": 15,
   "id": "8f78934e",
   "metadata": {},
   "outputs": [],
   "source": [
    "test_x=x.iloc[np.arange(ii,42000,1),np.arange(0,784,1)]"
   ]
  },
  {
   "cell_type": "code",
   "execution_count": 16,
   "id": "2e668841",
   "metadata": {},
   "outputs": [],
   "source": [
    "test_x=test_x.values"
   ]
  },
  {
   "cell_type": "code",
   "execution_count": 17,
   "id": "917a636d",
   "metadata": {},
   "outputs": [],
   "source": [
    "test_y=y.iloc[np.arange(ii,42000,1)]"
   ]
  },
  {
   "cell_type": "code",
   "execution_count": 18,
   "id": "b10996d4",
   "metadata": {},
   "outputs": [],
   "source": [
    "test_y=test_y.values"
   ]
  },
  {
   "cell_type": "code",
   "execution_count": 19,
   "id": "ebc0e7be",
   "metadata": {},
   "outputs": [],
   "source": [
    "train_y=y.iloc[np.arange(0,ii,1)]"
   ]
  },
  {
   "cell_type": "code",
   "execution_count": 20,
   "id": "6bf42284",
   "metadata": {},
   "outputs": [],
   "source": [
    "train_y=train_y.values"
   ]
  },
  {
   "cell_type": "code",
   "execution_count": 21,
   "id": "faed3ee9",
   "metadata": {},
   "outputs": [
    {
     "data": {
      "text/plain": [
       "(33600, 784)"
      ]
     },
     "execution_count": 21,
     "metadata": {},
     "output_type": "execute_result"
    }
   ],
   "source": [
    "train_x.shape"
   ]
  },
  {
   "cell_type": "code",
   "execution_count": 22,
   "id": "2a173add",
   "metadata": {},
   "outputs": [
    {
     "data": {
      "text/plain": [
       "(33600,)"
      ]
     },
     "execution_count": 22,
     "metadata": {},
     "output_type": "execute_result"
    }
   ],
   "source": [
    "train_y.shape"
   ]
  },
  {
   "cell_type": "code",
   "execution_count": 23,
   "id": "8c209e98",
   "metadata": {},
   "outputs": [
    {
     "data": {
      "text/plain": [
       "(8400, 784)"
      ]
     },
     "execution_count": 23,
     "metadata": {},
     "output_type": "execute_result"
    }
   ],
   "source": [
    "test_x.shape"
   ]
  },
  {
   "cell_type": "code",
   "execution_count": 24,
   "id": "910bb5e7",
   "metadata": {},
   "outputs": [
    {
     "data": {
      "text/plain": [
       "(8400,)"
      ]
     },
     "execution_count": 24,
     "metadata": {},
     "output_type": "execute_result"
    }
   ],
   "source": [
    "test_y.shape"
   ]
  },
  {
   "cell_type": "code",
   "execution_count": 25,
   "id": "96b0b72b",
   "metadata": {},
   "outputs": [
    {
     "name": "stdout",
     "output_type": "stream",
     "text": [
      "[[-2 -2 -2]]\n"
     ]
    }
   ],
   "source": [
    "x1=np.array([[1,2,3]])\n",
    "x2=np.array([[3,4,5]])\n",
    "print(x1-x2)"
   ]
  },
  {
   "cell_type": "code",
   "execution_count": 26,
   "id": "eba55819",
   "metadata": {},
   "outputs": [],
   "source": [
    "values=np.dot(x1,x1.T)"
   ]
  },
  {
   "cell_type": "code",
   "execution_count": 27,
   "id": "fb38dea0",
   "metadata": {},
   "outputs": [
    {
     "data": {
      "text/plain": [
       "array([[14]])"
      ]
     },
     "execution_count": 27,
     "metadata": {},
     "output_type": "execute_result"
    }
   ],
   "source": [
    "values"
   ]
  },
  {
   "cell_type": "code",
   "execution_count": 43,
   "id": "8a882f84",
   "metadata": {},
   "outputs": [
    {
     "name": "stdout",
     "output_type": "stream",
     "text": [
      "[0, 7, 7, 2, 2, 6, 5, 7, 8, 5, 3, 0, 2, 7, 6, 9, 2, 3, 5, 1, 6, 2, 8, 0, 2, 8, 9, 7, 9, 4, 7, 8, 4, 1, 3, 9, 3, 4, 0, 8, 0, 9, 1, 8, 5, 5, 9, 4, 1, 8, 7, 7, 4, 4, 3, 3, 7, 5, 6, 5, 4, 6, 9, 6, 4, 1, 5, 3, 8, 0, 6, 0, 0, 2, 5, 9, 9, 9, 0, 1, 5, 8, 9, 1, 8, 1, 4, 6, 1, 0, 2, 1, 6, 1, 6, 0, 4, 3, 7, 7, 5, 1, 8, 3, 6, 2, 7, 9, 6, 3, 6, 9, 5, 1, 9, 9, 5, 9, 6, 6, 6, 7, 9, 6, 2, 7, 2, 5, 8, 7, 6, 3, 5, 9, 3, 9, 0, 4, 7, 7, 7, 8, 7, 4, 4, 2, 4, 0, 1, 3, 1, 7, 5, 3, 6, 1, 2, 3, 6, 5, 7, 6, 3, 9, 2, 9, 9, 6, 4, 8, 5, 3, 1, 7, 4, 7, 7, 8, 1, 5, 3, 4, 9, 8, 9, 9, 4, 0, 2, 0, 9, 8, 3, 9, 6, 7, 5, 9, 5, 1, 1, 8, 7, 9, 3, 5, 6, 4, 0, 8, 3, 1, 1, 9, 5, 0, 4, 2, 1, 0, 5, 8, 7, 9, 3, 9, 3, 9, 2, 7, 2, 8, 7, 1, 6, 8, 1, 7, 6, 1, 4, 8, 3, 3, 7, 9, 2, 3, 4, 9, 4, 5, 3, 9, 0, 7, 0, 2, 9, 0, 0, 9, 3, 9, 9, 7, 8, 2, 0, 3, 5, 6, 3, 7, 1, 0, 1, 5, 5, 2, 5, 3, 3, 7, 9, 2, 4, 0, 5, 0, 0, 1, 0, 2, 7, 5, 7, 2, 1, 6, 4, 0, 8, 2, 0, 7, 7, 6, 3, 0, 9, 7, 0, 2, 5, 7, 7, 9, 1, 0, 9, 3, 7, 7, 2, 6, 6, 8, 9, 1, 8, 7, 6, 2, 4, 8, 4, 7, 1, 0, 6, 9, 8, 6, 5, 0, 2, 2, 5, 5, 4, 7, 9, 9, 8, 5, 7, 3, 7, 1, 3, 0, 9, 9, 2, 4, 6, 6, 1, 1, 4, 9, 5, 7, 3, 0, 0, 5, 5, 0, 6, 6, 3, 2, 4, 0, 9, 2, 8, 2, 9, 7, 6, 3, 1, 9, 7, 2, 7, 9, 1, 2, 7, 9, 4, 4, 2, 1, 7, 8, 1, 2, 7, 5, 9, 1, 9, 5, 0, 3, 2, 4, 4, 0, 5, 1, 7, 3, 3, 8, 2, 7, 2, 8, 6, 1, 8, 3, 9, 2, 9, 9, 8, 6, 9, 1, 3, 1, 0, 3, 0, 4, 0, 0, 4, 3, 9, 5, 3, 5, 0, 0, 6, 1, 1, 8, 0, 8, 8, 1, 7, 3, 1, 9, 0, 0, 0, 2, 0, 0, 9, 7, 1, 2, 1, 6, 2, 9, 2, 1, 0, 0, 9, 3, 0, 0, 1, 7, 7, 0, 9, 6, 6, 5, 7, 8, 8, 7, 8, 5, 5, 7, 8, 2, 0, 5, 9, 1, 5, 8, 6, 2, 0, 3, 1, 9, 1, 3, 5, 2, 8, 9, 9, 4, 6, 9, 2, 3, 4, 7, 4, 9, 7, 2, 1, 3, 2, 6, 9, 4, 2, 8, 6, 0, 0, 0, 7, 6, 1, 1, 0, 3, 1, 9, 1, 3, 7, 2, 1, 3, 4, 4, 1, 9, 6, 6, 3, 7, 7, 3, 4, 3, 3, 4, 2, 7, 5, 6, 5, 0, 4, 1, 9, 1, 1, 1, 1, 8, 6, 1, 5, 4, 3, 4, 2, 3, 7, 2, 2, 5, 6, 2, 0, 4, 7, 6, 3, 2, 9, 7, 9, 0, 9, 5, 9, 5, 1, 9, 1, 1, 3, 2, 7, 9, 7, 3, 2, 9, 9, 5, 8, 2, 7, 1, 2, 9, 2, 8, 6, 0, 5, 6, 2, 3, 1, 5, 1, 3, 5, 4, 4, 4, 5, 7, 7, 7, 4, 9, 6, 0, 6, 8, 6, 5, 4, 7, 9, 2, 0, 8, 8, 1, 5, 9, 3, 3, 9, 0, 0, 3, 4, 4, 2, 3, 4, 7, 3, 7, 2, 3, 5, 6, 7, 2, 6, 5, 9, 0, 6, 8, 6, 9, 4, 8, 9, 6, 9, 0, 9, 1, 1, 5, 8, 5, 9, 4, 3, 8, 5, 5, 7, 1, 2, 2, 8, 4, 1, 3, 6, 7, 1, 1, 4, 3, 4, 1, 1, 0, 3, 3, 2, 5, 7, 6, 1, 1, 2, 8, 7, 1, 6, 5, 1, 0, 4, 5, 9, 9, 8, 3, 5, 5, 0, 8, 9, 1, 3, 1, 4, 5, 3, 6, 9, 9, 3, 7, 1, 9, 9, 6, 6, 2, 7, 7, 8, 9, 7, 5, 3, 5, 1, 9, 8, 9, 9, 9, 5, 1, 4, 3, 0, 9, 1, 5, 6, 0, 4, 0, 8, 2, 8, 4, 2, 3, 8, 2, 3, 6, 5, 8, 6, 8, 0, 5, 6, 5, 0, 2, 6, 5, 1, 6, 7, 0, 7, 5, 3, 3, 8, 3, 4, 0, 9, 1, 1, 4, 2, 4, 3, 6, 7, 8, 1, 0, 0, 7, 5, 9, 7, 2, 2, 4, 5, 6, 5, 1, 5, 3, 9, 4, 7, 3, 9, 2, 1, 9, 7, 7, 4, 4, 5, 3, 3, 7, 7, 3, 5, 5, 5, 9, 6, 4, 5, 9, 9, 6, 3, 0, 9, 1, 8, 7, 2, 6, 1, 8, 4, 7, 9, 9, 3, 4, 9, 5, 7, 3, 6, 6, 6, 3, 1, 1, 8, 5, 9, 5, 1, 1, 1, 6, 7, 5, 1, 0, 4, 2, 8, 1, 9, 5, 0, 1, 1, 3, 3, 0, 1, 1, 5, 5, 9, 8, 2, 6, 4, 8, 4, 1, 4, 7, 7, 6, 8, 0, 9, 3, 3, 6, 0, 0, 6, 5, 8, 6, 4, 0, 0, 4, 4, 1, 7, 0, 3, 9, 1, 8, 1, 9, 7, 9]\n"
     ]
    }
   ],
   "source": [
    "def diff(x1,x2):\n",
    "    zz=(x1-x2)\n",
    "    zzt=(x1-x2).T\n",
    "    zz1=np.dot(zz,zzt)\n",
    "    return zz1\n",
    "def knn(xx,yy,qp,k=5):\n",
    "    lst=[]\n",
    "    for i in np.arange(0,33600,1):\n",
    "        difference=diff(xx[i,:],qp)\n",
    "        newtup=(difference,yy[i])\n",
    "        lst.append(newtup)\n",
    "    lst=sorted(lst)\n",
    "    return lst[:k]\n",
    "lst55=[]\n",
    "for i in np.arange(0,1000,1):\n",
    "    numval=knn(train_x,train_y,test_x[i,:])\n",
    "    #print(numval)\n",
    "    dt={}\n",
    "    for i in numval:\n",
    "        (a,b)=i\n",
    "        dt[b]=dt.get(b,0)+1\n",
    "    #print(dt)\n",
    "    tt1=sorted(dt.values(),reverse=True)\n",
    "    tt1=tt1[0]\n",
    "    for i in dt.keys():\n",
    "        if dt[i]==tt1:\n",
    "            lst55.append(i)\n",
    "            break\n",
    "print(lst55)\n",
    "    "
   ]
  },
  {
   "cell_type": "code",
   "execution_count": 41,
   "id": "5c6494a8",
   "metadata": {},
   "outputs": [
    {
     "data": {
      "text/plain": [
       "<matplotlib.image.AxesImage at 0x19c98479610>"
      ]
     },
     "execution_count": 41,
     "metadata": {},
     "output_type": "execute_result"
    },
    {
     "data": {
      "image/png": "[encoded data removed]",
      "text/plain": [
       "<Figure size 432x288 with 1 Axes>"
      ]
     },
     "metadata": {
      "needs_background": "light"
     },
     "output_type": "display_data"
    }
   ],
   "source": [
    "mm=test_x[20,:].reshape((28,28))\n",
    "plt.imshow(mm,cmap='gray')"
   ]
  },
  {
   "cell_type": "code",
   "execution_count": 44,
   "id": "d8702026",
   "metadata": {},
   "outputs": [
    {
     "name": "stdout",
     "output_type": "stream",
     "text": [
      "977\n",
      "0.977\n"
     ]
    }
   ],
   "source": [
    "count=0\n",
    "for i in np.arange(0,1000,1):\n",
    "    if lst55[i]==test_y[i]:\n",
    "        count=count+1\n",
    "print(count)\n",
    "print((count/1000))"
   ]
  },
  {
   "cell_type": "code",
   "execution_count": null,
   "id": "c0ea6da5",
   "metadata": {},
   "outputs": [],
   "source": []
  }
 ],
 "metadata": {
  "kernelspec": {
   "display_name": "Python 3 (ipykernel)",
   "language": "python",
   "name": "python3"
  },
  "language_info": {
   "codemirror_mode": {
    "name": "ipython",
    "version": 3
   },
   "file_extension": ".py",
   "mimetype": "text/x-python",
   "name": "python",
   "nbconvert_exporter": "python",
   "pygments_lexer": "ipython3",
   "version": "3.9.6"
  }
 },
 "nbformat": 4,
 "nbformat_minor": 5
}
